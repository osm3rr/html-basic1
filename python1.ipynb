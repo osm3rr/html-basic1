{
 "cells": [
  {
   "cell_type": "code",
   "execution_count": 1,
   "metadata": {},
   "outputs": [
    {
     "data": {
      "text/plain": [
       "4"
      ]
     },
     "execution_count": 1,
     "metadata": {},
     "output_type": "execute_result"
    }
   ],
   "source": []
  },
  {
   "cell_type": "markdown",
   "metadata": {},
   "source": [
    "# Clase 1 de python\n",
    "### Fundamentos\n",
    "* Variables\n",
    "* Sintaxis básica\n",
    "* Condicionales \n",
    "* Operadores de comparación\n",
    "* Operadores lógicos"
   ]
  },
  {
   "cell_type": "code",
   "execution_count": 3,
   "metadata": {},
   "outputs": [
    {
     "data": {
      "text/plain": [
       "34"
      ]
     },
     "execution_count": 3,
     "metadata": {},
     "output_type": "execute_result"
    }
   ],
   "source": [
    "# operaciones matemáticas básicas\n",
    "# suma\n",
    "2+23\n",
    "# resta\n",
    "90 -56"
   ]
  },
  {
   "cell_type": "code",
   "execution_count": 4,
   "metadata": {},
   "outputs": [
    {
     "data": {
      "text/plain": [
       "68"
      ]
     },
     "execution_count": 4,
     "metadata": {},
     "output_type": "execute_result"
    }
   ],
   "source": [
    "# multiplicación\n",
    "34 * 2"
   ]
  },
  {
   "cell_type": "code",
   "execution_count": 5,
   "metadata": {},
   "outputs": [
    {
     "data": {
      "text/plain": [
       "-8"
      ]
     },
     "execution_count": 5,
     "metadata": {},
     "output_type": "execute_result"
    }
   ],
   "source": [
    "(2 + 2) - 3 * (3 + 1)"
   ]
  },
  {
   "cell_type": "code",
   "execution_count": 6,
   "metadata": {},
   "outputs": [
    {
     "data": {
      "text/plain": [
       "5.0"
      ]
     },
     "execution_count": 6,
     "metadata": {},
     "output_type": "execute_result"
    }
   ],
   "source": [
    "# divsión\n",
    "50 / 10"
   ]
  },
  {
   "cell_type": "code",
   "execution_count": 8,
   "metadata": {},
   "outputs": [
    {
     "name": "stdout",
     "output_type": "stream",
     "text": [
      "5\n"
     ]
    }
   ],
   "source": [
    "# variables\n",
    "number_a = 2\n",
    "number_b = 3\n",
    "result = number_a + number_b\n",
    "\n",
    "print(result)"
   ]
  },
  {
   "cell_type": "code",
   "execution_count": 9,
   "metadata": {},
   "outputs": [],
   "source": [
    "Numbera = 2\n",
    "Number_a = 2\n",
    "number_a = 2\n",
    "\n"
   ]
  },
  {
   "cell_type": "code",
   "execution_count": 10,
   "metadata": {},
   "outputs": [
    {
     "ename": "NameError",
     "evalue": "name 'number' is not defined",
     "output_type": "error",
     "traceback": [
      "\u001b[1;31m---------------------------------------------------------------------------\u001b[0m",
      "\u001b[1;31mNameError\u001b[0m                                 Traceback (most recent call last)",
      "Cell \u001b[1;32mIn[10], line 1\u001b[0m\n\u001b[1;32m----> 1\u001b[0m \u001b[43mnumber\u001b[49m\u001b[38;5;241m.\u001b[39ma \u001b[38;5;241m=\u001b[39m \u001b[38;5;241m2\u001b[39m\n",
      "\u001b[1;31mNameError\u001b[0m: name 'number' is not defined"
     ]
    }
   ],
   "source": [
    "number.a = 2"
   ]
  },
  {
   "cell_type": "code",
   "execution_count": 11,
   "metadata": {},
   "outputs": [
    {
     "ename": "SyntaxError",
     "evalue": "cannot assign to expression here. Maybe you meant '==' instead of '='? (579844531.py, line 1)",
     "output_type": "error",
     "traceback": [
      "\u001b[1;36m  Cell \u001b[1;32mIn[11], line 1\u001b[1;36m\u001b[0m\n\u001b[1;33m    number-a = 2\u001b[0m\n\u001b[1;37m    ^\u001b[0m\n\u001b[1;31mSyntaxError\u001b[0m\u001b[1;31m:\u001b[0m cannot assign to expression here. Maybe you meant '==' instead of '='?\n"
     ]
    }
   ],
   "source": [
    "number-a = 2"
   ]
  },
  {
   "cell_type": "code",
   "execution_count": 12,
   "metadata": {},
   "outputs": [],
   "source": [
    "NUMBER_A = 2"
   ]
  },
  {
   "cell_type": "code",
   "execution_count": 13,
   "metadata": {},
   "outputs": [
    {
     "data": {
      "text/plain": [
       "int"
      ]
     },
     "execution_count": 13,
     "metadata": {},
     "output_type": "execute_result"
    }
   ],
   "source": [
    "type(number_a)"
   ]
  },
  {
   "cell_type": "code",
   "execution_count": 14,
   "metadata": {},
   "outputs": [],
   "source": [
    "number_c = 12.33"
   ]
  },
  {
   "cell_type": "code",
   "execution_count": 15,
   "metadata": {},
   "outputs": [
    {
     "data": {
      "text/plain": [
       "float"
      ]
     },
     "execution_count": 15,
     "metadata": {},
     "output_type": "execute_result"
    }
   ],
   "source": [
    "type(number_c)"
   ]
  },
  {
   "cell_type": "code",
   "execution_count": 16,
   "metadata": {},
   "outputs": [],
   "source": [
    "name = \"josefino\""
   ]
  },
  {
   "cell_type": "code",
   "execution_count": 17,
   "metadata": {},
   "outputs": [
    {
     "data": {
      "text/plain": [
       "str"
      ]
     },
     "execution_count": 17,
     "metadata": {},
     "output_type": "execute_result"
    }
   ],
   "source": [
    "type(name)"
   ]
  },
  {
   "cell_type": "code",
   "execution_count": 18,
   "metadata": {},
   "outputs": [],
   "source": [
    "last_name = \"Primera\""
   ]
  },
  {
   "cell_type": "markdown",
   "metadata": {},
   "source": [
    "### Estructuras de control\n",
    "* Condicionales\n",
    "    - Simples\n",
    "    - Anidados\n",
    "    - Encadenados\n",
    "* Ciclos finitos\n",
    "* Ciclos infinitos\n",
    "* Funciones"
   ]
  },
  {
   "cell_type": "code",
   "execution_count": null,
   "metadata": {},
   "outputs": [],
   "source": [
    "# operadores de comparación\n",
    "> mayor que "
   ]
  },
  {
   "cell_type": "markdown",
   "metadata": {},
   "source": [
    "##### operadores de comparación\n",
    " - \">\" mayor que \n",
    " - \"<\" menor que\n",
    " - \"==\" igual a\n",
    " - \">=\" mayor igual\n",
    " - \"<=\" menor igual\n",
    " - \"!=\" diferente a"
   ]
  },
  {
   "cell_type": "markdown",
   "metadata": {},
   "source": []
  },
  {
   "cell_type": "code",
   "execution_count": 19,
   "metadata": {},
   "outputs": [
    {
     "name": "stdout",
     "output_type": "stream",
     "text": [
      "El número a es mayor a 1\n"
     ]
    }
   ],
   "source": [
    "# condicionales\n",
    "if number_a > 1:\n",
    "   print(\"El número a es mayor a 1\") "
   ]
  },
  {
   "cell_type": "code",
   "execution_count": 20,
   "metadata": {},
   "outputs": [
    {
     "name": "stdout",
     "output_type": "stream",
     "text": [
      "El número 2 es mayor a 1\n"
     ]
    }
   ],
   "source": [
    "# condicionales\n",
    "if number_a > 1:\n",
    "   print(f\"El número {number_a} es mayor que 1\") "
   ]
  },
  {
   "cell_type": "code",
   "execution_count": 21,
   "metadata": {},
   "outputs": [],
   "source": [
    "number_a = 0"
   ]
  },
  {
   "cell_type": "code",
   "execution_count": 23,
   "metadata": {},
   "outputs": [
    {
     "name": "stdout",
     "output_type": "stream",
     "text": [
      "El número 0 es menor que 1\n"
     ]
    }
   ],
   "source": [
    "# condicionales\n",
    "if number_a > 1:\n",
    "   print(f\"El número {number_a} es mayor que 1\") \n",
    "else:\n",
    "   print(f\"El número {number_a} es menor que 1\") "
   ]
  },
  {
   "cell_type": "code",
   "execution_count": 9,
   "metadata": {},
   "outputs": [
    {
     "name": "stdout",
     "output_type": "stream",
     "text": [
      "Hola josefino\n",
      "CERRADO! Abre viernes y sábado\n"
     ]
    }
   ],
   "source": [
    "# Condicionales anidados\n",
    "# Validar el ingreso a una discoteca\n",
    "# La disco está abierta, viernes y sábado, a partir de las 20H,y \n",
    "# solo pueden pasar los mayores de 18 años\n",
    "name = input(\"Ingrese su nombre: \")\n",
    "print(f\"Hola {name}\")\n",
    "\n",
    "week_day = input(\" Ingrese el día de la semana: \")\n",
    "\n",
    "if week_day == \"viernes\":\n",
    "    # validación de la hora\n",
    "    hour = input(\"Ingese la hora: \")\n",
    "    hour = int(hour)\n",
    "    if hour >= 20:\n",
    "        # validación de la edad\n",
    "        age = int(input(\"Ingrese su edad: \"))\n",
    "        if age >= 18:\n",
    "            print(\"Es viernes, son más de las 08:00 PM y eres mayor de edad\") \n",
    "        else:\n",
    "            print(\"fuera de aquí menor!\")\n",
    "    else:\n",
    "        print(\"CERRADO! Abre a partir de las 08:00 PM\")\n",
    "else:\n",
    "    print(\"CERRADO! Abre viernes y sábado\")\n"
   ]
  },
  {
   "cell_type": "code",
   "execution_count": 10,
   "metadata": {},
   "outputs": [
    {
     "name": "stdout",
     "output_type": "stream",
     "text": [
      "Hola josefino\n",
      "CERRADO! Abre viernes y sábado\n",
      "Es sábado, son más de las 08:00 PM y eres mayor de edad\n"
     ]
    }
   ],
   "source": [
    "# Condicionales anidados\n",
    "# Validar el ingreso a una discoteca\n",
    "# La disco está abierta, viernes y sábado, a partir de las 20H,y \n",
    "# solo pueden pasar los mayores de 18 años\n",
    "name = input(\"Ingrese su nombre: \")\n",
    "print(f\"Hola {name}\")\n",
    "\n",
    "week_day = input(\" Ingrese el día de la semana: \")\n",
    "\n",
    "if week_day == \"viernes\":\n",
    "    # validación de la hora\n",
    "    hour = input(\"Ingese la hora: \")\n",
    "    hour = int(hour)\n",
    "    if hour >= 20:\n",
    "        # validación de la edad\n",
    "        age = int(input(\"Ingrese su edad: \"))\n",
    "        if age >= 18:\n",
    "            print(\"Es viernes, son más de las 08:00 PM y eres mayor de edad\") \n",
    "        else:\n",
    "            print(\"fuera de aquí menor!\")\n",
    "    else:\n",
    "        print(\"CERRADO! Abre a partir de las 08:00 PM\")\n",
    "else:\n",
    "    print(\"CERRADO! Abre viernes y sábado\")\n",
    "\n",
    "if week_day == \"sábado\":\n",
    "    # validación de la hora\n",
    "    hour = input(\"Ingese la hora: \")\n",
    "    hour = int(hour)\n",
    "    if hour >= 20:\n",
    "        # validación de la edad\n",
    "        age = int(input(\"Ingrese su edad: \"))\n",
    "        if age >= 18:\n",
    "            print(f\"Es {week_day}, son más de las 08:00 PM y eres mayor de edad\") \n",
    "        else:\n",
    "            print(\"fuera de aquí menor!\")\n",
    "    else:\n",
    "        print(\"CERRADO! Abre a partir de las 08:00 PM\")\n",
    "else:\n",
    "    print(\"CERRADO! Abre viernes y sábado\")\n"
   ]
  },
  {
   "cell_type": "code",
   "execution_count": null,
   "metadata": {},
   "outputs": [],
   "source": [
    "# Operadores lógicos\n",
    "#and\n",
    "#OR \n",
    "#NOT"
   ]
  },
  {
   "cell_type": "code",
   "execution_count": 13,
   "metadata": {},
   "outputs": [
    {
     "name": "stdout",
     "output_type": "stream",
     "text": [
      "Hola Josefino\n",
      "Es viernes, son las 20 y tienes 30 años de edad\n"
     ]
    }
   ],
   "source": [
    "# Condicionales anidados\n",
    "# Validar el ingreso a una discoteca\n",
    "# La disco está abierta, viernes y sábado, a partir de las 20H,y \n",
    "# solo pueden pasar los mayores de 18 años\n",
    "name = input(\"Ingrese su nombre: \")\n",
    "print(f\"Hola {name}\")\n",
    "\n",
    "week_day = input(\" Ingrese el día de la semana: \")\n",
    "\n",
    "if (week_day == \"viernes\") or (week_day == \"sábado\"):\n",
    "    # validación de la hora\n",
    "    hour = input(\"Ingese la hora: \")\n",
    "    hour = int(hour)\n",
    "    if hour >= 20:\n",
    "        # validación de la edad\n",
    "        age = int(input(\"Ingrese su edad: \"))\n",
    "        if age >= 18:\n",
    "            print(f\"Es {week_day}, son las {hour}PM y tienes {age} años de edad\") \n",
    "        else:\n",
    "            print(\"fuera de aquí menor!\")\n",
    "    else:\n",
    "        print(\"CERRADO! Abre a partir de las 08:00 PM\")\n",
    "else:\n",
    "    print(\"CERRADO! Abre viernes y sábado\")\n"
   ]
  },
  {
   "cell_type": "code",
   "execution_count": 15,
   "metadata": {},
   "outputs": [
    {
     "name": "stdout",
     "output_type": "stream",
     "text": [
      "Hola josefino\n",
      "Algo esta mal\n"
     ]
    }
   ],
   "source": [
    "# Condicionales anidados\n",
    "# Validar el ingreso a una discoteca\n",
    "# La disco está abierta, viernes y sábado, a partir de las 20H,y \n",
    "# solo pueden pasar los mayores de 18 años\n",
    "name = input(\"Ingrese su nombre: \")\n",
    "print(f\"Hola {name}\")\n",
    "\n",
    "# ingreso de datos\n",
    "week_day = input(\" Ingrese el día de la semana: \")\n",
    "hour = int(input(\"Ingese la hora: \"))\n",
    "age = int(input(\"Ingrese su edad: \"))\n",
    "\n",
    "if ((week_day == \"viernes\") or (week_day == \"sábado\")) and (hour >= 20) and (age >= 18):      \n",
    "        print(f\"Es {week_day}, son las {hour}PM y tienes {age} años de edad\") \n",
    "else:\n",
    "    print(\"Algo esta mal\")\n"
   ]
  },
  {
   "cell_type": "code",
   "execution_count": 18,
   "metadata": {},
   "outputs": [
    {
     "name": "stdout",
     "output_type": "stream",
     "text": [
      "Es fin de semana, vamos a la playa! yuhu\n"
     ]
    }
   ],
   "source": [
    "# condicionales encadenados\n",
    "week_day = input(\"Ingrese el día de la semana: \")\n",
    "\n",
    "if (week_day == \"lunes\") or (week_day == \"Lunes\") or (week_day == \"LUNES\"):\n",
    "    print(f\"Hoy es {week_day}\")\n",
    "\n",
    "elif week_day == \"martes\":\n",
    "    print(f\"Hoy es {week_day}\")\n",
    "\n",
    "elif week_day == \"miércoles\":\n",
    "    print(f\"Hoy es {week_day}\")\n",
    "\n",
    "elif week_day == \"jueves\":\n",
    "    print(f\"Hoy es {week_day}\")\n",
    "\n",
    "elif week_day == \"viernes\":\n",
    "    print(f\"Hoy es {week_day}\")\n",
    "else:\n",
    "    print(\"Es fin de semana, vamos a la playa! yuhu\")\n"
   ]
  },
  {
   "cell_type": "markdown",
   "metadata": {},
   "source": [
    "#### Ciclos finitos: for"
   ]
  },
  {
   "cell_type": "code",
   "execution_count": 19,
   "metadata": {},
   "outputs": [],
   "source": [
    "# listas\n",
    "week_days = [\"lunes\", \"martes\", \"miércoles\", \"jueves\", \"viernes\"]"
   ]
  },
  {
   "cell_type": "code",
   "execution_count": 20,
   "metadata": {},
   "outputs": [],
   "source": [
    "week_days.append(\"sábado\")"
   ]
  },
  {
   "cell_type": "code",
   "execution_count": 21,
   "metadata": {},
   "outputs": [
    {
     "data": {
      "text/plain": [
       "['lunes', 'martes', 'miércoles', 'jueves', 'viernes', 'sábado']"
      ]
     },
     "execution_count": 21,
     "metadata": {},
     "output_type": "execute_result"
    }
   ],
   "source": [
    "week_days"
   ]
  },
  {
   "cell_type": "code",
   "execution_count": 23,
   "metadata": {},
   "outputs": [
    {
     "data": {
      "text/plain": [
       "1"
      ]
     },
     "execution_count": 23,
     "metadata": {},
     "output_type": "execute_result"
    }
   ],
   "source": [
    "week_days.count(\"lunes\")"
   ]
  },
  {
   "cell_type": "code",
   "execution_count": 24,
   "metadata": {},
   "outputs": [
    {
     "data": {
      "text/plain": [
       "6"
      ]
     },
     "execution_count": 24,
     "metadata": {},
     "output_type": "execute_result"
    }
   ],
   "source": [
    "len(week_days)"
   ]
  },
  {
   "cell_type": "code",
   "execution_count": 37,
   "metadata": {},
   "outputs": [
    {
     "data": {
      "text/plain": [
       "'sábado'"
      ]
     },
     "execution_count": 37,
     "metadata": {},
     "output_type": "execute_result"
    }
   ],
   "source": [
    "#[inicio:salto:fin]\n",
    "week_days[-1]"
   ]
  },
  {
   "cell_type": "code",
   "execution_count": 47,
   "metadata": {},
   "outputs": [
    {
     "name": "stdout",
     "output_type": "stream",
     "text": [
      "3\n",
      "4\n",
      "5\n",
      "6\n",
      "7\n",
      "8\n",
      "9\n",
      "10\n"
     ]
    }
   ],
   "source": [
    "# función range(start:step:stop)\n",
    "for i in range(3,11):\n",
    "    print(i)"
   ]
  },
  {
   "cell_type": "code",
   "execution_count": 48,
   "metadata": {},
   "outputs": [
    {
     "data": {
      "text/plain": [
       "['lunes', 'martes', 'miércoles', 'jueves', 'viernes', 'sábado']"
      ]
     },
     "execution_count": 48,
     "metadata": {},
     "output_type": "execute_result"
    }
   ],
   "source": [
    "week_days"
   ]
  },
  {
   "cell_type": "code",
   "execution_count": 52,
   "metadata": {},
   "outputs": [
    {
     "name": "stdout",
     "output_type": "stream",
     "text": [
      "lunes\n",
      "martes\n",
      "miércoles\n",
      "jueves\n",
      "viernes\n",
      "sábado\n"
     ]
    }
   ],
   "source": [
    "for day in week_days:\n",
    "    print(day)"
   ]
  },
  {
   "cell_type": "code",
   "execution_count": 53,
   "metadata": {},
   "outputs": [],
   "source": [
    "week_days.append(\"domingo\")"
   ]
  },
  {
   "cell_type": "code",
   "execution_count": 54,
   "metadata": {},
   "outputs": [
    {
     "data": {
      "text/plain": [
       "7"
      ]
     },
     "execution_count": 54,
     "metadata": {},
     "output_type": "execute_result"
    }
   ],
   "source": [
    "len(week_days)"
   ]
  },
  {
   "cell_type": "code",
   "execution_count": 56,
   "metadata": {},
   "outputs": [],
   "source": [
    "week = week_days.copy()"
   ]
  },
  {
   "cell_type": "code",
   "execution_count": 57,
   "metadata": {},
   "outputs": [
    {
     "data": {
      "text/plain": [
       "['lunes', 'martes', 'miércoles', 'jueves', 'viernes', 'sábado', 'domingo']"
      ]
     },
     "execution_count": 57,
     "metadata": {},
     "output_type": "execute_result"
    }
   ],
   "source": [
    "week"
   ]
  },
  {
   "cell_type": "code",
   "execution_count": 59,
   "metadata": {},
   "outputs": [],
   "source": [
    "week_day = input(\"Ingrese el día de la semana: \")\n",
    "\n",
    "if week_day in week:\n",
    "    print(f\"Hoy es {week_day}\")"
   ]
  },
  {
   "cell_type": "code",
   "execution_count": 65,
   "metadata": {},
   "outputs": [
    {
     "name": "stdout",
     "output_type": "stream",
     "text": [
      "No encontré el día josefino\n"
     ]
    }
   ],
   "source": [
    "search = input(\"Qué día quiere buscar?\")\n",
    "for day in week:\n",
    "    if day == search:\n",
    "        print(f\"Encontre el {day}!!\")\n",
    "    else:\n",
    "        print(f\"No encontré el día {search}\")\n",
    "        break"
   ]
  }
 ],
 "metadata": {
  "kernelspec": {
   "display_name": "Python 3",
   "language": "python",
   "name": "python3"
  },
  "language_info": {
   "codemirror_mode": {
    "name": "ipython",
    "version": 3
   },
   "file_extension": ".py",
   "mimetype": "text/x-python",
   "name": "python",
   "nbconvert_exporter": "python",
   "pygments_lexer": "ipython3",
   "version": "3.12.0"
  }
 },
 "nbformat": 4,
 "nbformat_minor": 2
}
