{
 "cells": [
  {
   "cell_type": "code",
   "execution_count": 14,
   "metadata": {},
   "outputs": [
    {
     "name": "stdout",
     "output_type": "stream",
     "text": [
      "Gana pedro\n"
     ]
    }
   ],
   "source": [
    "# Piedra, papel o tijeras\n",
    "\n",
    "# ingreso de datos\n",
    "player_1 = input(\"Jugador 1: \")\n",
    "player_2 = input(\"Jugador 2: \")\n",
    "\n",
    "opt_player_1 = input(\"Opción jugador 1: \")\n",
    "opt_player_2 = input(\"Opción jugador 2: \")\n",
    "\n",
    "# escenario 1:\n",
    "# player 1: piedra | player 2:tijeras\n",
    "# Gana: player 1\n",
    "# player 1: piedra | player 2:papel\n",
    "# Gana: player 2\n",
    "if opt_player_1 == opt_player_2:\n",
    "    print(f\"Empate con {opt_player_1}\")\n",
    "\n",
    "elif (opt_player_1 == \"piedra\") and (opt_player_2 == \"tijeras\"):\n",
    "    print(f\"Gana {player_1} con {opt_player_1}\")\n",
    "\n",
    "elif (opt_player_1 == \"piedra\") and (opt_player_2 == \"papel\"):\n",
    "    print(f\"Gana {player_2} con {opt_player_2}\")\n",
    "\n",
    "elif (opt_player_1 == \"papel\") and (opt_player_2 == \"piedra\"):\n",
    "    print(f\"Gana {player_1} con {opt_player_1}\")\n",
    "\n",
    "elif (opt_player_1 == \"papel\") and (opt_player_2 == \"tijeras\"):\n",
    "    print(f\"Gana {player_2} con {opt_player_2}\")\n",
    "\n",
    "elif (opt_player_1 == \"tijeras\") and (opt_player_2 == \"papel\"):\n",
    "    print(f\"Gana {player_1} con {opt_player_1}\")\n",
    "\n",
    "elif (opt_player_1 == \"tijeras\") and (opt_player_2 == \"piedra\"):\n",
    "    print(f\"Gana {player_2} con {opt_player_2}\")\n",
    "\n",
    "else:\n",
    "    print(\"ingrese un valor válido\")\n",
    "\n",
    "\n",
    "\n",
    "# escenario 2:\n",
    "# player 1: papel | plaver 2: piedra\n",
    "# Gana: player 1\n",
    "# En caso contrario gana player 2\n",
    "\n",
    "\n",
    "# escenario 3:\n",
    "# player 1: tijeras | plaver 2: papel\n",
    "# Gana: player 1\n",
    "# En caso contrario gana player 2\n",
    "\n",
    "\n",
    "# escenario 4:\n",
    "# selección de player 1 = selección plaver 2\n",
    "# Gana: empate\n",
    "\n"
   ]
  }
 ],
 "metadata": {
  "kernelspec": {
   "display_name": "Python 3",
   "language": "python",
   "name": "python3"
  },
  "language_info": {
   "codemirror_mode": {
    "name": "ipython",
    "version": 3
   },
   "file_extension": ".py",
   "mimetype": "text/x-python",
   "name": "python",
   "nbconvert_exporter": "python",
   "pygments_lexer": "ipython3",
   "version": "3.12.0"
  }
 },
 "nbformat": 4,
 "nbformat_minor": 2
}
